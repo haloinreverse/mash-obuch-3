{
 "cells": [
  {
   "cell_type": "code",
   "execution_count": 139,
   "id": "35ff46ed-942a-463e-b56e-b883f1e992e4",
   "metadata": {},
   "outputs": [
    {
     "name": "stdout",
     "output_type": "stream",
     "text": [
      "11403\n",
      "14573\n"
     ]
    }
   ],
   "source": [
    "import pandas as pd\n",
    "import matplotlib\n",
    "import pylab as pl\n",
    "import numpy as np\n",
    "from sklearn.neighbors import KNeighborsClassifier\n",
    "from sklearn.model_selection import StratifiedKFold, train_test_split\n",
    "from sklearn.metrics import accuracy_score, f1_score, precision_score, recall_score, roc_auc_score\n",
    "from sklearn.pipeline import Pipeline\n",
    "from sklearn.preprocessing import StandardScaler\n",
    "from sklearn.model_selection import GridSearchCV, cross_val_score\n",
    "from sklearn.tree import DecisionTreeClassifier\n",
    "\n",
    "\n",
    "def clean_dataset(df):\n",
    "    assert isinstance(df, pd.DataFrame), \"df needs to be a pd.DataFrame\"\n",
    "    df.dropna(inplace=True)\n",
    "    indices_to_keep = ~df.isin([np.nan, np.inf, -np.inf]).any(axis=1)\n",
    "    return df[indices_to_keep].astype(np.float64)\n",
    "\n",
    "\n",
    "df = pd.read_csv('test.csv')\n",
    "df.drop_duplicates()\n",
    "\n",
    "\n",
    "for i in [\"satisfied\", \"neutral or dissatisfied\"]:\n",
    "    print(len(df[df['satisfaction']==i]))"
   ]
  },
  {
   "cell_type": "markdown",
   "id": "1e209eb7-c416-49ae-8e64-c6e52f71244d",
   "metadata": {},
   "source": [
    "В качестве датасета были выбраны данные о клиентах авиакомпании и о их удовлетворённости полётом, каждый пассажир обладает такими атрибутами, как пол, возраст, класс полёта, причина поездки, сервис и тд, а так же атрибутом satisfaction, который может принимать всего два значения - \"удовлетворён\" и \"неудовлетворён\". Именно этот атрибут будет выступать в качестве класса. Количество удовлетворенных полетом людей - 11403, неудовлетворённых - 14573, дисбаланс классов практически отсутствует"
   ]
  },
  {
   "cell_type": "markdown",
   "id": "4dff02d2-d0ee-4b3a-aea2-e4837a8a6b7e",
   "metadata": {},
   "source": [
    "Приведем строковые данные к числовому виду (мужской пол - 0, женский - 1, и тд):"
   ]
  },
  {
   "cell_type": "code",
   "execution_count": 140,
   "id": "61b3982d-d6ee-411a-b78c-342c8ba8ebea",
   "metadata": {},
   "outputs": [
    {
     "data": {
      "text/html": [
       "<div>\n",
       "<style scoped>\n",
       "    .dataframe tbody tr th:only-of-type {\n",
       "        vertical-align: middle;\n",
       "    }\n",
       "\n",
       "    .dataframe tbody tr th {\n",
       "        vertical-align: top;\n",
       "    }\n",
       "\n",
       "    .dataframe thead th {\n",
       "        text-align: right;\n",
       "    }\n",
       "</style>\n",
       "<table border=\"1\" class=\"dataframe\">\n",
       "  <thead>\n",
       "    <tr style=\"text-align: right;\">\n",
       "      <th></th>\n",
       "      <th>Unnamed: 0</th>\n",
       "      <th>id</th>\n",
       "      <th>Gender</th>\n",
       "      <th>Customer Type</th>\n",
       "      <th>Age</th>\n",
       "      <th>Type of Travel</th>\n",
       "      <th>Class</th>\n",
       "      <th>Flight Distance</th>\n",
       "      <th>Inflight wifi service</th>\n",
       "      <th>Departure/Arrival time convenient</th>\n",
       "      <th>...</th>\n",
       "      <th>Inflight entertainment</th>\n",
       "      <th>On-board service</th>\n",
       "      <th>Leg room service</th>\n",
       "      <th>Baggage handling</th>\n",
       "      <th>Checkin service</th>\n",
       "      <th>Inflight service</th>\n",
       "      <th>Cleanliness</th>\n",
       "      <th>Departure Delay in Minutes</th>\n",
       "      <th>Arrival Delay in Minutes</th>\n",
       "      <th>satisfaction</th>\n",
       "    </tr>\n",
       "  </thead>\n",
       "  <tbody>\n",
       "    <tr>\n",
       "      <th>0</th>\n",
       "      <td>0.0</td>\n",
       "      <td>19556.0</td>\n",
       "      <td>0.0</td>\n",
       "      <td>0.0</td>\n",
       "      <td>52.0</td>\n",
       "      <td>0.0</td>\n",
       "      <td>0.0</td>\n",
       "      <td>160.0</td>\n",
       "      <td>5.0</td>\n",
       "      <td>4.0</td>\n",
       "      <td>...</td>\n",
       "      <td>5.0</td>\n",
       "      <td>5.0</td>\n",
       "      <td>5.0</td>\n",
       "      <td>5.0</td>\n",
       "      <td>2.0</td>\n",
       "      <td>5.0</td>\n",
       "      <td>5.0</td>\n",
       "      <td>50.0</td>\n",
       "      <td>44.0</td>\n",
       "      <td>0.0</td>\n",
       "    </tr>\n",
       "    <tr>\n",
       "      <th>1</th>\n",
       "      <td>1.0</td>\n",
       "      <td>90035.0</td>\n",
       "      <td>0.0</td>\n",
       "      <td>0.0</td>\n",
       "      <td>36.0</td>\n",
       "      <td>0.0</td>\n",
       "      <td>1.0</td>\n",
       "      <td>2863.0</td>\n",
       "      <td>1.0</td>\n",
       "      <td>1.0</td>\n",
       "      <td>...</td>\n",
       "      <td>4.0</td>\n",
       "      <td>4.0</td>\n",
       "      <td>4.0</td>\n",
       "      <td>4.0</td>\n",
       "      <td>3.0</td>\n",
       "      <td>4.0</td>\n",
       "      <td>5.0</td>\n",
       "      <td>0.0</td>\n",
       "      <td>0.0</td>\n",
       "      <td>0.0</td>\n",
       "    </tr>\n",
       "    <tr>\n",
       "      <th>2</th>\n",
       "      <td>2.0</td>\n",
       "      <td>12360.0</td>\n",
       "      <td>1.0</td>\n",
       "      <td>1.0</td>\n",
       "      <td>20.0</td>\n",
       "      <td>0.0</td>\n",
       "      <td>0.0</td>\n",
       "      <td>192.0</td>\n",
       "      <td>2.0</td>\n",
       "      <td>0.0</td>\n",
       "      <td>...</td>\n",
       "      <td>2.0</td>\n",
       "      <td>4.0</td>\n",
       "      <td>1.0</td>\n",
       "      <td>3.0</td>\n",
       "      <td>2.0</td>\n",
       "      <td>2.0</td>\n",
       "      <td>2.0</td>\n",
       "      <td>0.0</td>\n",
       "      <td>0.0</td>\n",
       "      <td>1.0</td>\n",
       "    </tr>\n",
       "    <tr>\n",
       "      <th>3</th>\n",
       "      <td>3.0</td>\n",
       "      <td>77959.0</td>\n",
       "      <td>1.0</td>\n",
       "      <td>0.0</td>\n",
       "      <td>44.0</td>\n",
       "      <td>0.0</td>\n",
       "      <td>1.0</td>\n",
       "      <td>3377.0</td>\n",
       "      <td>0.0</td>\n",
       "      <td>0.0</td>\n",
       "      <td>...</td>\n",
       "      <td>1.0</td>\n",
       "      <td>1.0</td>\n",
       "      <td>1.0</td>\n",
       "      <td>1.0</td>\n",
       "      <td>3.0</td>\n",
       "      <td>1.0</td>\n",
       "      <td>4.0</td>\n",
       "      <td>0.0</td>\n",
       "      <td>6.0</td>\n",
       "      <td>0.0</td>\n",
       "    </tr>\n",
       "    <tr>\n",
       "      <th>4</th>\n",
       "      <td>4.0</td>\n",
       "      <td>36875.0</td>\n",
       "      <td>0.0</td>\n",
       "      <td>0.0</td>\n",
       "      <td>49.0</td>\n",
       "      <td>0.0</td>\n",
       "      <td>0.0</td>\n",
       "      <td>1182.0</td>\n",
       "      <td>2.0</td>\n",
       "      <td>3.0</td>\n",
       "      <td>...</td>\n",
       "      <td>2.0</td>\n",
       "      <td>2.0</td>\n",
       "      <td>2.0</td>\n",
       "      <td>2.0</td>\n",
       "      <td>4.0</td>\n",
       "      <td>2.0</td>\n",
       "      <td>4.0</td>\n",
       "      <td>0.0</td>\n",
       "      <td>20.0</td>\n",
       "      <td>0.0</td>\n",
       "    </tr>\n",
       "    <tr>\n",
       "      <th>...</th>\n",
       "      <td>...</td>\n",
       "      <td>...</td>\n",
       "      <td>...</td>\n",
       "      <td>...</td>\n",
       "      <td>...</td>\n",
       "      <td>...</td>\n",
       "      <td>...</td>\n",
       "      <td>...</td>\n",
       "      <td>...</td>\n",
       "      <td>...</td>\n",
       "      <td>...</td>\n",
       "      <td>...</td>\n",
       "      <td>...</td>\n",
       "      <td>...</td>\n",
       "      <td>...</td>\n",
       "      <td>...</td>\n",
       "      <td>...</td>\n",
       "      <td>...</td>\n",
       "      <td>...</td>\n",
       "      <td>...</td>\n",
       "      <td>...</td>\n",
       "    </tr>\n",
       "    <tr>\n",
       "      <th>25971</th>\n",
       "      <td>25971.0</td>\n",
       "      <td>78463.0</td>\n",
       "      <td>1.0</td>\n",
       "      <td>1.0</td>\n",
       "      <td>34.0</td>\n",
       "      <td>0.0</td>\n",
       "      <td>1.0</td>\n",
       "      <td>526.0</td>\n",
       "      <td>3.0</td>\n",
       "      <td>3.0</td>\n",
       "      <td>...</td>\n",
       "      <td>4.0</td>\n",
       "      <td>3.0</td>\n",
       "      <td>2.0</td>\n",
       "      <td>4.0</td>\n",
       "      <td>4.0</td>\n",
       "      <td>5.0</td>\n",
       "      <td>4.0</td>\n",
       "      <td>0.0</td>\n",
       "      <td>0.0</td>\n",
       "      <td>1.0</td>\n",
       "    </tr>\n",
       "    <tr>\n",
       "      <th>25972</th>\n",
       "      <td>25972.0</td>\n",
       "      <td>71167.0</td>\n",
       "      <td>1.0</td>\n",
       "      <td>0.0</td>\n",
       "      <td>23.0</td>\n",
       "      <td>0.0</td>\n",
       "      <td>1.0</td>\n",
       "      <td>646.0</td>\n",
       "      <td>4.0</td>\n",
       "      <td>4.0</td>\n",
       "      <td>...</td>\n",
       "      <td>4.0</td>\n",
       "      <td>4.0</td>\n",
       "      <td>5.0</td>\n",
       "      <td>5.0</td>\n",
       "      <td>5.0</td>\n",
       "      <td>5.0</td>\n",
       "      <td>4.0</td>\n",
       "      <td>0.0</td>\n",
       "      <td>0.0</td>\n",
       "      <td>0.0</td>\n",
       "    </tr>\n",
       "    <tr>\n",
       "      <th>25973</th>\n",
       "      <td>25973.0</td>\n",
       "      <td>37675.0</td>\n",
       "      <td>0.0</td>\n",
       "      <td>0.0</td>\n",
       "      <td>17.0</td>\n",
       "      <td>1.0</td>\n",
       "      <td>0.0</td>\n",
       "      <td>828.0</td>\n",
       "      <td>2.0</td>\n",
       "      <td>5.0</td>\n",
       "      <td>...</td>\n",
       "      <td>2.0</td>\n",
       "      <td>4.0</td>\n",
       "      <td>3.0</td>\n",
       "      <td>4.0</td>\n",
       "      <td>5.0</td>\n",
       "      <td>4.0</td>\n",
       "      <td>2.0</td>\n",
       "      <td>0.0</td>\n",
       "      <td>0.0</td>\n",
       "      <td>1.0</td>\n",
       "    </tr>\n",
       "    <tr>\n",
       "      <th>25974</th>\n",
       "      <td>25974.0</td>\n",
       "      <td>90086.0</td>\n",
       "      <td>1.0</td>\n",
       "      <td>0.0</td>\n",
       "      <td>14.0</td>\n",
       "      <td>0.0</td>\n",
       "      <td>1.0</td>\n",
       "      <td>1127.0</td>\n",
       "      <td>3.0</td>\n",
       "      <td>3.0</td>\n",
       "      <td>...</td>\n",
       "      <td>4.0</td>\n",
       "      <td>3.0</td>\n",
       "      <td>2.0</td>\n",
       "      <td>5.0</td>\n",
       "      <td>4.0</td>\n",
       "      <td>5.0</td>\n",
       "      <td>4.0</td>\n",
       "      <td>0.0</td>\n",
       "      <td>0.0</td>\n",
       "      <td>0.0</td>\n",
       "    </tr>\n",
       "    <tr>\n",
       "      <th>25975</th>\n",
       "      <td>25975.0</td>\n",
       "      <td>34799.0</td>\n",
       "      <td>0.0</td>\n",
       "      <td>0.0</td>\n",
       "      <td>42.0</td>\n",
       "      <td>1.0</td>\n",
       "      <td>0.0</td>\n",
       "      <td>264.0</td>\n",
       "      <td>2.0</td>\n",
       "      <td>5.0</td>\n",
       "      <td>...</td>\n",
       "      <td>1.0</td>\n",
       "      <td>1.0</td>\n",
       "      <td>2.0</td>\n",
       "      <td>1.0</td>\n",
       "      <td>1.0</td>\n",
       "      <td>1.0</td>\n",
       "      <td>1.0</td>\n",
       "      <td>0.0</td>\n",
       "      <td>0.0</td>\n",
       "      <td>1.0</td>\n",
       "    </tr>\n",
       "  </tbody>\n",
       "</table>\n",
       "<p>25893 rows × 25 columns</p>\n",
       "</div>"
      ],
      "text/plain": [
       "       Unnamed: 0       id  Gender  Customer Type   Age  Type of Travel  \\\n",
       "0             0.0  19556.0     0.0            0.0  52.0             0.0   \n",
       "1             1.0  90035.0     0.0            0.0  36.0             0.0   \n",
       "2             2.0  12360.0     1.0            1.0  20.0             0.0   \n",
       "3             3.0  77959.0     1.0            0.0  44.0             0.0   \n",
       "4             4.0  36875.0     0.0            0.0  49.0             0.0   \n",
       "...           ...      ...     ...            ...   ...             ...   \n",
       "25971     25971.0  78463.0     1.0            1.0  34.0             0.0   \n",
       "25972     25972.0  71167.0     1.0            0.0  23.0             0.0   \n",
       "25973     25973.0  37675.0     0.0            0.0  17.0             1.0   \n",
       "25974     25974.0  90086.0     1.0            0.0  14.0             0.0   \n",
       "25975     25975.0  34799.0     0.0            0.0  42.0             1.0   \n",
       "\n",
       "       Class  Flight Distance  Inflight wifi service  \\\n",
       "0        0.0            160.0                    5.0   \n",
       "1        1.0           2863.0                    1.0   \n",
       "2        0.0            192.0                    2.0   \n",
       "3        1.0           3377.0                    0.0   \n",
       "4        0.0           1182.0                    2.0   \n",
       "...      ...              ...                    ...   \n",
       "25971    1.0            526.0                    3.0   \n",
       "25972    1.0            646.0                    4.0   \n",
       "25973    0.0            828.0                    2.0   \n",
       "25974    1.0           1127.0                    3.0   \n",
       "25975    0.0            264.0                    2.0   \n",
       "\n",
       "       Departure/Arrival time convenient  ...  Inflight entertainment  \\\n",
       "0                                    4.0  ...                     5.0   \n",
       "1                                    1.0  ...                     4.0   \n",
       "2                                    0.0  ...                     2.0   \n",
       "3                                    0.0  ...                     1.0   \n",
       "4                                    3.0  ...                     2.0   \n",
       "...                                  ...  ...                     ...   \n",
       "25971                                3.0  ...                     4.0   \n",
       "25972                                4.0  ...                     4.0   \n",
       "25973                                5.0  ...                     2.0   \n",
       "25974                                3.0  ...                     4.0   \n",
       "25975                                5.0  ...                     1.0   \n",
       "\n",
       "       On-board service  Leg room service  Baggage handling  Checkin service  \\\n",
       "0                   5.0               5.0               5.0              2.0   \n",
       "1                   4.0               4.0               4.0              3.0   \n",
       "2                   4.0               1.0               3.0              2.0   \n",
       "3                   1.0               1.0               1.0              3.0   \n",
       "4                   2.0               2.0               2.0              4.0   \n",
       "...                 ...               ...               ...              ...   \n",
       "25971               3.0               2.0               4.0              4.0   \n",
       "25972               4.0               5.0               5.0              5.0   \n",
       "25973               4.0               3.0               4.0              5.0   \n",
       "25974               3.0               2.0               5.0              4.0   \n",
       "25975               1.0               2.0               1.0              1.0   \n",
       "\n",
       "       Inflight service  Cleanliness  Departure Delay in Minutes  \\\n",
       "0                   5.0          5.0                        50.0   \n",
       "1                   4.0          5.0                         0.0   \n",
       "2                   2.0          2.0                         0.0   \n",
       "3                   1.0          4.0                         0.0   \n",
       "4                   2.0          4.0                         0.0   \n",
       "...                 ...          ...                         ...   \n",
       "25971               5.0          4.0                         0.0   \n",
       "25972               5.0          4.0                         0.0   \n",
       "25973               4.0          2.0                         0.0   \n",
       "25974               5.0          4.0                         0.0   \n",
       "25975               1.0          1.0                         0.0   \n",
       "\n",
       "       Arrival Delay in Minutes  satisfaction  \n",
       "0                          44.0           0.0  \n",
       "1                           0.0           0.0  \n",
       "2                           0.0           1.0  \n",
       "3                           6.0           0.0  \n",
       "4                          20.0           0.0  \n",
       "...                         ...           ...  \n",
       "25971                       0.0           1.0  \n",
       "25972                       0.0           0.0  \n",
       "25973                       0.0           1.0  \n",
       "25974                       0.0           0.0  \n",
       "25975                       0.0           1.0  \n",
       "\n",
       "[25893 rows x 25 columns]"
      ]
     },
     "execution_count": 140,
     "metadata": {},
     "output_type": "execute_result"
    }
   ],
   "source": [
    "df['Gender'] = pd.factorize(df['Gender'])[0]\n",
    "df['Customer Type'] = pd.factorize(df['Customer Type'])[0]\n",
    "df['Type of Travel'] = pd.factorize(df['Type of Travel'])[0]\n",
    "df['Class'] = pd.factorize(df['Class'])[0]\n",
    "df['satisfaction']=pd.factorize(df['satisfaction'])[0]\n",
    "clean_dataset(df)"
   ]
  },
  {
   "cell_type": "code",
   "execution_count": 141,
   "id": "3a424ddf-5bfe-4842-855f-7bea3d4b729d",
   "metadata": {},
   "outputs": [
    {
     "data": {
      "text/html": [
       "<div>\n",
       "<style scoped>\n",
       "    .dataframe tbody tr th:only-of-type {\n",
       "        vertical-align: middle;\n",
       "    }\n",
       "\n",
       "    .dataframe tbody tr th {\n",
       "        vertical-align: top;\n",
       "    }\n",
       "\n",
       "    .dataframe thead th {\n",
       "        text-align: right;\n",
       "    }\n",
       "</style>\n",
       "<table border=\"1\" class=\"dataframe\">\n",
       "  <thead>\n",
       "    <tr style=\"text-align: right;\">\n",
       "      <th></th>\n",
       "      <th>Unnamed: 0</th>\n",
       "      <th>id</th>\n",
       "      <th>Gender</th>\n",
       "      <th>Customer Type</th>\n",
       "      <th>Age</th>\n",
       "      <th>Type of Travel</th>\n",
       "      <th>Class</th>\n",
       "      <th>Flight Distance</th>\n",
       "      <th>Inflight wifi service</th>\n",
       "      <th>Departure/Arrival time convenient</th>\n",
       "      <th>...</th>\n",
       "      <th>Inflight entertainment</th>\n",
       "      <th>On-board service</th>\n",
       "      <th>Leg room service</th>\n",
       "      <th>Baggage handling</th>\n",
       "      <th>Checkin service</th>\n",
       "      <th>Inflight service</th>\n",
       "      <th>Cleanliness</th>\n",
       "      <th>Departure Delay in Minutes</th>\n",
       "      <th>Arrival Delay in Minutes</th>\n",
       "      <th>satisfaction</th>\n",
       "    </tr>\n",
       "  </thead>\n",
       "  <tbody>\n",
       "    <tr>\n",
       "      <th>25971</th>\n",
       "      <td>25971</td>\n",
       "      <td>78463</td>\n",
       "      <td>1</td>\n",
       "      <td>1</td>\n",
       "      <td>34</td>\n",
       "      <td>0</td>\n",
       "      <td>1</td>\n",
       "      <td>526</td>\n",
       "      <td>3</td>\n",
       "      <td>3</td>\n",
       "      <td>...</td>\n",
       "      <td>4</td>\n",
       "      <td>3</td>\n",
       "      <td>2</td>\n",
       "      <td>4</td>\n",
       "      <td>4</td>\n",
       "      <td>5</td>\n",
       "      <td>4</td>\n",
       "      <td>0</td>\n",
       "      <td>0.0</td>\n",
       "      <td>1</td>\n",
       "    </tr>\n",
       "    <tr>\n",
       "      <th>25972</th>\n",
       "      <td>25972</td>\n",
       "      <td>71167</td>\n",
       "      <td>1</td>\n",
       "      <td>0</td>\n",
       "      <td>23</td>\n",
       "      <td>0</td>\n",
       "      <td>1</td>\n",
       "      <td>646</td>\n",
       "      <td>4</td>\n",
       "      <td>4</td>\n",
       "      <td>...</td>\n",
       "      <td>4</td>\n",
       "      <td>4</td>\n",
       "      <td>5</td>\n",
       "      <td>5</td>\n",
       "      <td>5</td>\n",
       "      <td>5</td>\n",
       "      <td>4</td>\n",
       "      <td>0</td>\n",
       "      <td>0.0</td>\n",
       "      <td>0</td>\n",
       "    </tr>\n",
       "    <tr>\n",
       "      <th>25973</th>\n",
       "      <td>25973</td>\n",
       "      <td>37675</td>\n",
       "      <td>0</td>\n",
       "      <td>0</td>\n",
       "      <td>17</td>\n",
       "      <td>1</td>\n",
       "      <td>0</td>\n",
       "      <td>828</td>\n",
       "      <td>2</td>\n",
       "      <td>5</td>\n",
       "      <td>...</td>\n",
       "      <td>2</td>\n",
       "      <td>4</td>\n",
       "      <td>3</td>\n",
       "      <td>4</td>\n",
       "      <td>5</td>\n",
       "      <td>4</td>\n",
       "      <td>2</td>\n",
       "      <td>0</td>\n",
       "      <td>0.0</td>\n",
       "      <td>1</td>\n",
       "    </tr>\n",
       "    <tr>\n",
       "      <th>25974</th>\n",
       "      <td>25974</td>\n",
       "      <td>90086</td>\n",
       "      <td>1</td>\n",
       "      <td>0</td>\n",
       "      <td>14</td>\n",
       "      <td>0</td>\n",
       "      <td>1</td>\n",
       "      <td>1127</td>\n",
       "      <td>3</td>\n",
       "      <td>3</td>\n",
       "      <td>...</td>\n",
       "      <td>4</td>\n",
       "      <td>3</td>\n",
       "      <td>2</td>\n",
       "      <td>5</td>\n",
       "      <td>4</td>\n",
       "      <td>5</td>\n",
       "      <td>4</td>\n",
       "      <td>0</td>\n",
       "      <td>0.0</td>\n",
       "      <td>0</td>\n",
       "    </tr>\n",
       "    <tr>\n",
       "      <th>25975</th>\n",
       "      <td>25975</td>\n",
       "      <td>34799</td>\n",
       "      <td>0</td>\n",
       "      <td>0</td>\n",
       "      <td>42</td>\n",
       "      <td>1</td>\n",
       "      <td>0</td>\n",
       "      <td>264</td>\n",
       "      <td>2</td>\n",
       "      <td>5</td>\n",
       "      <td>...</td>\n",
       "      <td>1</td>\n",
       "      <td>1</td>\n",
       "      <td>2</td>\n",
       "      <td>1</td>\n",
       "      <td>1</td>\n",
       "      <td>1</td>\n",
       "      <td>1</td>\n",
       "      <td>0</td>\n",
       "      <td>0.0</td>\n",
       "      <td>1</td>\n",
       "    </tr>\n",
       "  </tbody>\n",
       "</table>\n",
       "<p>5 rows × 25 columns</p>\n",
       "</div>"
      ],
      "text/plain": [
       "       Unnamed: 0     id  Gender  Customer Type  Age  Type of Travel  Class  \\\n",
       "25971       25971  78463       1              1   34               0      1   \n",
       "25972       25972  71167       1              0   23               0      1   \n",
       "25973       25973  37675       0              0   17               1      0   \n",
       "25974       25974  90086       1              0   14               0      1   \n",
       "25975       25975  34799       0              0   42               1      0   \n",
       "\n",
       "       Flight Distance  Inflight wifi service  \\\n",
       "25971              526                      3   \n",
       "25972              646                      4   \n",
       "25973              828                      2   \n",
       "25974             1127                      3   \n",
       "25975              264                      2   \n",
       "\n",
       "       Departure/Arrival time convenient  ...  Inflight entertainment  \\\n",
       "25971                                  3  ...                       4   \n",
       "25972                                  4  ...                       4   \n",
       "25973                                  5  ...                       2   \n",
       "25974                                  3  ...                       4   \n",
       "25975                                  5  ...                       1   \n",
       "\n",
       "       On-board service  Leg room service  Baggage handling  Checkin service  \\\n",
       "25971                 3                 2                 4                4   \n",
       "25972                 4                 5                 5                5   \n",
       "25973                 4                 3                 4                5   \n",
       "25974                 3                 2                 5                4   \n",
       "25975                 1                 2                 1                1   \n",
       "\n",
       "       Inflight service  Cleanliness  Departure Delay in Minutes  \\\n",
       "25971                 5            4                           0   \n",
       "25972                 5            4                           0   \n",
       "25973                 4            2                           0   \n",
       "25974                 5            4                           0   \n",
       "25975                 1            1                           0   \n",
       "\n",
       "       Arrival Delay in Minutes  satisfaction  \n",
       "25971                       0.0             1  \n",
       "25972                       0.0             0  \n",
       "25973                       0.0             1  \n",
       "25974                       0.0             0  \n",
       "25975                       0.0             1  \n",
       "\n",
       "[5 rows x 25 columns]"
      ]
     },
     "execution_count": 141,
     "metadata": {},
     "output_type": "execute_result"
    }
   ],
   "source": [
    "df.tail()"
   ]
  },
  {
   "cell_type": "markdown",
   "id": "0d6ffc52-faa4-4269-95a2-dc7ef28b5c7c",
   "metadata": {},
   "source": [
    "Сначала воспользуемся методом k ближайших соседей, разбив выборку следующим образом - 70% для обучения, остальные 30% - отложенная выборка, на которой будет произведена оценка качества полученной модели. Подобное разбиение будет использоваться и во всех методах, приведенных ниже."
   ]
  },
  {
   "cell_type": "markdown",
   "id": "33e3a3da-d1fe-4409-a953-3b1c43c82c14",
   "metadata": {},
   "source": [
    "Выберем случайное количество соседей (10) и проведем обучение модели:"
   ]
  },
  {
   "cell_type": "code",
   "execution_count": 142,
   "id": "07844e51-9ae4-49da-8f4f-9a815ed67d6d",
   "metadata": {},
   "outputs": [],
   "source": [
    "y = df['satisfaction']\n",
    "df.drop('satisfaction', axis=1, inplace=True)\n",
    "df = df.reset_index()\n",
    "knn = KNeighborsClassifier(n_neighbors=10)\n",
    "X_train, X_holdout, y_train, y_holdout = train_test_split(\n",
    "    df.values, y, test_size=0.3, random_state=17\n",
    ")\n",
    "knn.fit(X_train, y_train)\n",
    "knn_pred = knn.predict(X_holdout)"
   ]
  },
  {
   "cell_type": "markdown",
   "id": "bd477ab5-8d1b-446d-8720-f031a2cc8a12",
   "metadata": {},
   "source": [
    "Для каждого случая будем выводить следующие метрики оценки качества: accuracy, precision, recall, f-measure (или по-другому f1) и ROC:"
   ]
  },
  {
   "cell_type": "code",
   "execution_count": 143,
   "id": "0c5bdaf8-22c0-4bbe-a6ab-2a9501251c2b",
   "metadata": {},
   "outputs": [
    {
     "data": {
      "text/plain": [
       "0.597193614830072"
      ]
     },
     "execution_count": 143,
     "metadata": {},
     "output_type": "execute_result"
    }
   ],
   "source": [
    "accuracy_score(y_holdout, knn_pred)"
   ]
  },
  {
   "cell_type": "code",
   "execution_count": 144,
   "id": "1e3ada3e-e98a-4363-97de-d45e80acfac9",
   "metadata": {},
   "outputs": [
    {
     "data": {
      "text/plain": [
       "0.6300881242131766"
      ]
     },
     "execution_count": 144,
     "metadata": {},
     "output_type": "execute_result"
    }
   ],
   "source": [
    "precision_score(y_holdout, knn_pred)"
   ]
  },
  {
   "cell_type": "code",
   "execution_count": 145,
   "id": "ab670cdc-f4c6-4aa6-bc37-5c48d09ea079",
   "metadata": {},
   "outputs": [
    {
     "data": {
      "text/plain": [
       "0.6873426413366903"
      ]
     },
     "execution_count": 145,
     "metadata": {},
     "output_type": "execute_result"
    }
   ],
   "source": [
    "recall_score(y_holdout, knn_pred)"
   ]
  },
  {
   "cell_type": "code",
   "execution_count": 146,
   "id": "1f65c67a-0039-4945-8d99-39c84ecf090f",
   "metadata": {},
   "outputs": [
    {
     "data": {
      "text/plain": [
       "0.6574712643678161"
      ]
     },
     "execution_count": 146,
     "metadata": {},
     "output_type": "execute_result"
    }
   ],
   "source": [
    "f1_score(y_holdout, knn_pred)"
   ]
  },
  {
   "cell_type": "code",
   "execution_count": 147,
   "id": "b9debe39-7363-41bb-bf6c-8d85e0722640",
   "metadata": {},
   "outputs": [
    {
     "data": {
      "text/plain": [
       "0.5843303380263917"
      ]
     },
     "execution_count": 147,
     "metadata": {},
     "output_type": "execute_result"
    }
   ],
   "source": [
    "roc_auc_score(y_holdout, knn_pred)"
   ]
  },
  {
   "cell_type": "markdown",
   "id": "8a062556-e9a2-499a-962b-488a691ce0cb",
   "metadata": {},
   "source": [
    "Теперь используем кросс-валидацию для настройки числа соседей"
   ]
  },
  {
   "cell_type": "code",
   "execution_count": 148,
   "id": "9ed55719-5e2d-4c53-b5dd-4fcbc21410a0",
   "metadata": {},
   "outputs": [
    {
     "name": "stdout",
     "output_type": "stream",
     "text": [
      "Fitting 5 folds for each of 9 candidates, totalling 45 fits\n"
     ]
    },
    {
     "data": {
      "text/plain": [
       "({'knn__n_neighbors': 8}, 0.9091862068965517)"
      ]
     },
     "execution_count": 148,
     "metadata": {},
     "output_type": "execute_result"
    }
   ],
   "source": [
    "knn_pipe = Pipeline(\n",
    "    [(\"scaler\", StandardScaler()), (\"knn\", KNeighborsClassifier(n_jobs=-1))]\n",
    ")\n",
    "\n",
    "knn_params = {\"knn__n_neighbors\": range(1, 10)}\n",
    "\n",
    "knn_grid = GridSearchCV(knn_pipe, knn_params, cv=5, n_jobs=-1, verbose=True)\n",
    "\n",
    "knn_grid.fit(X_train, y_train)\n",
    "\n",
    "knn_grid.best_params_, knn_grid.best_score_\n"
   ]
  },
  {
   "cell_type": "markdown",
   "id": "eacd027a-8850-4e97-b3c2-1d73b3678cbd",
   "metadata": {},
   "source": [
    "Оптимальное количество соседей = 8, искомые метрики:"
   ]
  },
  {
   "cell_type": "code",
   "execution_count": 149,
   "id": "f52cd9c5-f07f-48d1-b935-a7e8183efccc",
   "metadata": {},
   "outputs": [
    {
     "data": {
      "text/plain": [
       "0.9155509783728115"
      ]
     },
     "execution_count": 149,
     "metadata": {},
     "output_type": "execute_result"
    }
   ],
   "source": [
    "accuracy_score(y_holdout, knn_grid.predict(X_holdout))"
   ]
  },
  {
   "cell_type": "code",
   "execution_count": 150,
   "id": "7e2fad66-152f-4e29-9bbc-2219c7dfe944",
   "metadata": {},
   "outputs": [
    {
     "data": {
      "text/plain": [
       "0.9095521729538937"
      ]
     },
     "execution_count": 150,
     "metadata": {},
     "output_type": "execute_result"
    }
   ],
   "source": [
    "precision_score(y_holdout, knn_grid.predict(X_holdout))"
   ]
  },
  {
   "cell_type": "code",
   "execution_count": 151,
   "id": "1f2bd31e-d9b1-45d0-9f78-a036de1a67f7",
   "metadata": {},
   "outputs": [
    {
     "data": {
      "text/plain": [
       "0.9436942092011902"
      ]
     },
     "execution_count": 151,
     "metadata": {},
     "output_type": "execute_result"
    }
   ],
   "source": [
    "recall_score(y_holdout, knn_grid.predict(X_holdout))"
   ]
  },
  {
   "cell_type": "code",
   "execution_count": 152,
   "id": "867ef3dd-afa8-46f8-99c6-67e95c4432d3",
   "metadata": {},
   "outputs": [
    {
     "data": {
      "text/plain": [
       "0.9263086946753538"
      ]
     },
     "execution_count": 152,
     "metadata": {},
     "output_type": "execute_result"
    }
   ],
   "source": [
    "f1_score(y_holdout, knn_grid.predict(X_holdout))"
   ]
  },
  {
   "cell_type": "code",
   "execution_count": 153,
   "id": "0a3b5ef8-86e4-4499-bf17-1007b725f364",
   "metadata": {},
   "outputs": [
    {
     "data": {
      "text/plain": [
       "0.9115352481722339"
      ]
     },
     "execution_count": 153,
     "metadata": {},
     "output_type": "execute_result"
    }
   ],
   "source": [
    "roc_auc_score(y_holdout, knn_grid.predict(X_holdout))"
   ]
  },
  {
   "cell_type": "markdown",
   "id": "bc8d8ce8-2ef4-47b4-b754-4997f42d3db1",
   "metadata": {},
   "source": [
    "Обучим дерево решений с глубиной 5:"
   ]
  },
  {
   "cell_type": "code",
   "execution_count": 154,
   "id": "4eacdaf9-ebc4-4c4e-8993-4998da3c6c3b",
   "metadata": {},
   "outputs": [],
   "source": [
    "tree = DecisionTreeClassifier(max_depth=5, random_state=17)\n",
    "\n",
    "tree.fit(X_train, y_train)\n",
    "tree_pred = tree.predict(X_holdout)"
   ]
  },
  {
   "cell_type": "code",
   "execution_count": 155,
   "id": "7f9102e6-fba4-46eb-9512-aa607b017be6",
   "metadata": {},
   "outputs": [
    {
     "data": {
      "text/plain": [
       "0.9007466529351185"
      ]
     },
     "execution_count": 155,
     "metadata": {},
     "output_type": "execute_result"
    }
   ],
   "source": [
    "accuracy_score(y_holdout, tree_pred)"
   ]
  },
  {
   "cell_type": "code",
   "execution_count": 156,
   "id": "bd062662-ed00-4bc4-ab46-0d9f8bea14b4",
   "metadata": {},
   "outputs": [
    {
     "data": {
      "text/plain": [
       "0.8929663608562691"
      ]
     },
     "execution_count": 156,
     "metadata": {},
     "output_type": "execute_result"
    }
   ],
   "source": [
    "precision_score(y_holdout, tree_pred)"
   ]
  },
  {
   "cell_type": "code",
   "execution_count": 157,
   "id": "b8e20e8c-9663-433c-abac-0bc80a543981",
   "metadata": {},
   "outputs": [
    {
     "data": {
      "text/plain": [
       "0.9356832227054246"
      ]
     },
     "execution_count": 157,
     "metadata": {},
     "output_type": "execute_result"
    }
   ],
   "source": [
    "recall_score(y_holdout, tree_pred)"
   ]
  },
  {
   "cell_type": "code",
   "execution_count": 158,
   "id": "c180a51e-6f12-4cf9-afd2-449fb9823154",
   "metadata": {},
   "outputs": [
    {
     "data": {
      "text/plain": [
       "0.9138258634179055"
      ]
     },
     "execution_count": 158,
     "metadata": {},
     "output_type": "execute_result"
    }
   ],
   "source": [
    "f1_score(y_holdout, tree_pred)"
   ]
  },
  {
   "cell_type": "code",
   "execution_count": 159,
   "id": "0a0a9343-0149-4eb5-99c2-8ca24fe09398",
   "metadata": {},
   "outputs": [
    {
     "data": {
      "text/plain": [
       "0.895761587816378"
      ]
     },
     "execution_count": 159,
     "metadata": {},
     "output_type": "execute_result"
    }
   ],
   "source": [
    "roc_auc_score(y_holdout, tree_pred)"
   ]
  },
  {
   "cell_type": "markdown",
   "id": "6a86bd9f-6965-4a25-82e1-957cc269e716",
   "metadata": {},
   "source": [
    "Настроим при помощи кросс-валидации параметры дерева: глубину и максимальное количество используемых параметров."
   ]
  },
  {
   "cell_type": "code",
   "execution_count": 160,
   "id": "63a5189e-d977-4d2b-9b9d-c534cbdd7aab",
   "metadata": {},
   "outputs": [
    {
     "name": "stdout",
     "output_type": "stream",
     "text": [
      "Fitting 5 folds for each of 150 candidates, totalling 750 fits\n"
     ]
    },
    {
     "data": {
      "text/plain": [
       "({'max_depth': 9, 'max_features': 17}, 0.9405241379310345)"
      ]
     },
     "execution_count": 160,
     "metadata": {},
     "output_type": "execute_result"
    }
   ],
   "source": [
    "tree_params = {\"max_depth\": range(1, 11), \"max_features\": range(4, 19)}\n",
    "\n",
    "tree_grid = GridSearchCV(tree, tree_params, cv=5, n_jobs=-1, verbose=True)\n",
    "\n",
    "tree_grid.fit(X_train, y_train)\n",
    "\n",
    "tree_grid.best_params_, tree_grid.best_score_"
   ]
  },
  {
   "cell_type": "markdown",
   "id": "29983521-dfcc-41af-92ba-ee35f2c61915",
   "metadata": {},
   "source": [
    "Оптимальными являются глубина 9 и максимальное количество параметров 17"
   ]
  },
  {
   "cell_type": "code",
   "execution_count": 161,
   "id": "478eccfa-f001-4822-8310-43a37a279b9e",
   "metadata": {},
   "outputs": [
    {
     "data": {
      "text/plain": [
       "0.9402677651905252"
      ]
     },
     "execution_count": 161,
     "metadata": {},
     "output_type": "execute_result"
    }
   ],
   "source": [
    "accuracy_score(y_holdout, tree_grid.predict(X_holdout))"
   ]
  },
  {
   "cell_type": "code",
   "execution_count": 162,
   "id": "667d7c7c-a8a0-46ab-a50b-d5b492d2b000",
   "metadata": {},
   "outputs": [
    {
     "data": {
      "text/plain": [
       "0.9335998223406617"
      ]
     },
     "execution_count": 162,
     "metadata": {},
     "output_type": "execute_result"
    }
   ],
   "source": [
    "precision_score(y_holdout, tree_grid.predict(X_holdout))"
   ]
  },
  {
   "cell_type": "code",
   "execution_count": 163,
   "id": "5b069913-59ed-4d38-bf3e-407687bfd5c8",
   "metadata": {},
   "outputs": [
    {
     "data": {
      "text/plain": [
       "0.9622339208056764"
      ]
     },
     "execution_count": 163,
     "metadata": {},
     "output_type": "execute_result"
    }
   ],
   "source": [
    "recall_score(y_holdout, tree_grid.predict(X_holdout))"
   ]
  },
  {
   "cell_type": "code",
   "execution_count": 164,
   "id": "8e201291-699c-4a55-afbb-7a4b40683854",
   "metadata": {},
   "outputs": [
    {
     "data": {
      "text/plain": [
       "0.9477006311992786"
      ]
     },
     "execution_count": 164,
     "metadata": {},
     "output_type": "execute_result"
    }
   ],
   "source": [
    "f1_score(y_holdout, tree_grid.predict(X_holdout))"
   ]
  },
  {
   "cell_type": "code",
   "execution_count": 165,
   "id": "de760e7a-6870-4109-99de-16d3c09f0fab",
   "metadata": {},
   "outputs": [
    {
     "data": {
      "text/plain": [
       "0.9371334358367895"
      ]
     },
     "execution_count": 165,
     "metadata": {},
     "output_type": "execute_result"
    }
   ],
   "source": [
    "roc_auc_score(y_holdout, tree_grid.predict(X_holdout))"
   ]
  },
  {
   "cell_type": "markdown",
   "id": "490f5322-219e-4c42-8788-3fdf77079088",
   "metadata": {},
   "source": [
    "Таким образом, получены следующие значения метрик оценки качества:"
   ]
  },
  {
   "cell_type": "markdown",
   "id": "b275b766-3d65-464a-b5d3-0f1b4f6382c3",
   "metadata": {},
   "source": [
    "|           | kNN c 10 соседями | kNN с 8 соседями | Дерево решений с глубиной 5  | Дерево решений с глубиной 9 и числом признаков 17 |\n",
    "|-----------|-------------------|-----------------------------|-----------------------------|------------------------------------------------------------|\n",
    "| accuracy  | 0.59              | 0.91                        | 0.90                        | 0.94                                                       |\n",
    "| precision | 0.63              | 0.90                        | 0.89                        | 0.93                                                       |\n",
    "| recall    | 0.68              | 0.94                        | 0.93                        | 0.96                                                       |\n",
    "| f-measure | 0.65              | 0.92                        | 0.91                        | 0.94                                                       |\n",
    "| roc       | 0.58              | 0.91                        | 0.89                        | 0.93                                                       |"
   ]
  },
  {
   "cell_type": "markdown",
   "id": "f99eeac4-0dd6-4a73-ab47-09b5d36dde64",
   "metadata": {},
   "source": [
    "Можно сделать вывод о том, что дерево решений лучше справляется с задачей в случае с нашей выборкой."
   ]
  },
  {
   "cell_type": "markdown",
   "id": "5e73be47-7089-4293-ae11-98306839378f",
   "metadata": {},
   "source": [
    "Это можно связать с большим количеством атрибутов, для которых мы не настроили веса."
   ]
  }
 ],
 "metadata": {
  "kernelspec": {
   "display_name": "Python 3 (ipykernel)",
   "language": "python",
   "name": "python3"
  },
  "language_info": {
   "codemirror_mode": {
    "name": "ipython",
    "version": 3
   },
   "file_extension": ".py",
   "mimetype": "text/x-python",
   "name": "python",
   "nbconvert_exporter": "python",
   "pygments_lexer": "ipython3",
   "version": "3.10.12"
  }
 },
 "nbformat": 4,
 "nbformat_minor": 5
}
